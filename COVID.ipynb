{
  "nbformat": 4,
  "nbformat_minor": 0,
  "metadata": {
    "colab": {
      "name": "COVID.ipynb",
      "provenance": [],
      "collapsed_sections": [],
      "authorship_tag": "ABX9TyPiGvPUb702rlfigE2KllYW",
      "include_colab_link": true
    },
    "kernelspec": {
      "name": "python3",
      "display_name": "Python 3"
    },
    "accelerator": "GPU",
    "widgets": {
      "application/vnd.jupyter.widget-state+json": {
        "cd1cf3b81da340a5a7142609f3e51400": {
          "model_module": "@jupyter-widgets/controls",
          "model_name": "HBoxModel",
          "state": {
            "_view_name": "HBoxView",
            "_dom_classes": [],
            "_model_name": "HBoxModel",
            "_view_module": "@jupyter-widgets/controls",
            "_model_module_version": "1.5.0",
            "_view_count": null,
            "_view_module_version": "1.5.0",
            "box_style": "",
            "layout": "IPY_MODEL_1143abd884384240bc7b50fd5462f89b",
            "_model_module": "@jupyter-widgets/controls",
            "children": [
              "IPY_MODEL_8e6357c8f59e46f7a84811196412baed",
              "IPY_MODEL_fde2f175a3c4469a8711c38f4f47d886"
            ]
          }
        },
        "1143abd884384240bc7b50fd5462f89b": {
          "model_module": "@jupyter-widgets/base",
          "model_name": "LayoutModel",
          "state": {
            "_view_name": "LayoutView",
            "grid_template_rows": null,
            "right": null,
            "justify_content": null,
            "_view_module": "@jupyter-widgets/base",
            "overflow": null,
            "_model_module_version": "1.2.0",
            "_view_count": null,
            "flex_flow": null,
            "width": null,
            "min_width": null,
            "border": null,
            "align_items": null,
            "bottom": null,
            "_model_module": "@jupyter-widgets/base",
            "top": null,
            "grid_column": null,
            "overflow_y": null,
            "overflow_x": null,
            "grid_auto_flow": null,
            "grid_area": null,
            "grid_template_columns": null,
            "flex": null,
            "_model_name": "LayoutModel",
            "justify_items": null,
            "grid_row": null,
            "max_height": null,
            "align_content": null,
            "visibility": null,
            "align_self": null,
            "height": null,
            "min_height": null,
            "padding": null,
            "grid_auto_rows": null,
            "grid_gap": null,
            "max_width": null,
            "order": null,
            "_view_module_version": "1.2.0",
            "grid_template_areas": null,
            "object_position": null,
            "object_fit": null,
            "grid_auto_columns": null,
            "margin": null,
            "display": null,
            "left": null
          }
        },
        "8e6357c8f59e46f7a84811196412baed": {
          "model_module": "@jupyter-widgets/controls",
          "model_name": "FloatProgressModel",
          "state": {
            "_view_name": "ProgressView",
            "style": "IPY_MODEL_8026aefa42e94cc8911f0128255fb1d2",
            "_dom_classes": [],
            "description": "100%",
            "_model_name": "FloatProgressModel",
            "bar_style": "success",
            "max": 87306240,
            "_view_module": "@jupyter-widgets/controls",
            "_model_module_version": "1.5.0",
            "value": 87306240,
            "_view_count": null,
            "_view_module_version": "1.5.0",
            "orientation": "horizontal",
            "min": 0,
            "description_tooltip": null,
            "_model_module": "@jupyter-widgets/controls",
            "layout": "IPY_MODEL_9caed3700a074ad18f1004ae896f2c55"
          }
        },
        "fde2f175a3c4469a8711c38f4f47d886": {
          "model_module": "@jupyter-widgets/controls",
          "model_name": "HTMLModel",
          "state": {
            "_view_name": "HTMLView",
            "style": "IPY_MODEL_677badc74634475485619d56400090b0",
            "_dom_classes": [],
            "description": "",
            "_model_name": "HTMLModel",
            "placeholder": "​",
            "_view_module": "@jupyter-widgets/controls",
            "_model_module_version": "1.5.0",
            "value": " 83.3M/83.3M [09:43&lt;00:00, 150kB/s]",
            "_view_count": null,
            "_view_module_version": "1.5.0",
            "description_tooltip": null,
            "_model_module": "@jupyter-widgets/controls",
            "layout": "IPY_MODEL_45ff7d23e5d946b78b062d9ea423048c"
          }
        },
        "8026aefa42e94cc8911f0128255fb1d2": {
          "model_module": "@jupyter-widgets/controls",
          "model_name": "ProgressStyleModel",
          "state": {
            "_view_name": "StyleView",
            "_model_name": "ProgressStyleModel",
            "description_width": "initial",
            "_view_module": "@jupyter-widgets/base",
            "_model_module_version": "1.5.0",
            "_view_count": null,
            "_view_module_version": "1.2.0",
            "bar_color": null,
            "_model_module": "@jupyter-widgets/controls"
          }
        },
        "9caed3700a074ad18f1004ae896f2c55": {
          "model_module": "@jupyter-widgets/base",
          "model_name": "LayoutModel",
          "state": {
            "_view_name": "LayoutView",
            "grid_template_rows": null,
            "right": null,
            "justify_content": null,
            "_view_module": "@jupyter-widgets/base",
            "overflow": null,
            "_model_module_version": "1.2.0",
            "_view_count": null,
            "flex_flow": null,
            "width": null,
            "min_width": null,
            "border": null,
            "align_items": null,
            "bottom": null,
            "_model_module": "@jupyter-widgets/base",
            "top": null,
            "grid_column": null,
            "overflow_y": null,
            "overflow_x": null,
            "grid_auto_flow": null,
            "grid_area": null,
            "grid_template_columns": null,
            "flex": null,
            "_model_name": "LayoutModel",
            "justify_items": null,
            "grid_row": null,
            "max_height": null,
            "align_content": null,
            "visibility": null,
            "align_self": null,
            "height": null,
            "min_height": null,
            "padding": null,
            "grid_auto_rows": null,
            "grid_gap": null,
            "max_width": null,
            "order": null,
            "_view_module_version": "1.2.0",
            "grid_template_areas": null,
            "object_position": null,
            "object_fit": null,
            "grid_auto_columns": null,
            "margin": null,
            "display": null,
            "left": null
          }
        },
        "677badc74634475485619d56400090b0": {
          "model_module": "@jupyter-widgets/controls",
          "model_name": "DescriptionStyleModel",
          "state": {
            "_view_name": "StyleView",
            "_model_name": "DescriptionStyleModel",
            "description_width": "",
            "_view_module": "@jupyter-widgets/base",
            "_model_module_version": "1.5.0",
            "_view_count": null,
            "_view_module_version": "1.2.0",
            "_model_module": "@jupyter-widgets/controls"
          }
        },
        "45ff7d23e5d946b78b062d9ea423048c": {
          "model_module": "@jupyter-widgets/base",
          "model_name": "LayoutModel",
          "state": {
            "_view_name": "LayoutView",
            "grid_template_rows": null,
            "right": null,
            "justify_content": null,
            "_view_module": "@jupyter-widgets/base",
            "overflow": null,
            "_model_module_version": "1.2.0",
            "_view_count": null,
            "flex_flow": null,
            "width": null,
            "min_width": null,
            "border": null,
            "align_items": null,
            "bottom": null,
            "_model_module": "@jupyter-widgets/base",
            "top": null,
            "grid_column": null,
            "overflow_y": null,
            "overflow_x": null,
            "grid_auto_flow": null,
            "grid_area": null,
            "grid_template_columns": null,
            "flex": null,
            "_model_name": "LayoutModel",
            "justify_items": null,
            "grid_row": null,
            "max_height": null,
            "align_content": null,
            "visibility": null,
            "align_self": null,
            "height": null,
            "min_height": null,
            "padding": null,
            "grid_auto_rows": null,
            "grid_gap": null,
            "max_width": null,
            "order": null,
            "_view_module_version": "1.2.0",
            "grid_template_areas": null,
            "object_position": null,
            "object_fit": null,
            "grid_auto_columns": null,
            "margin": null,
            "display": null,
            "left": null
          }
        }
      }
    }
  },
  "cells": [
    {
      "cell_type": "markdown",
      "metadata": {
        "id": "view-in-github",
        "colab_type": "text"
      },
      "source": [
        "<a href=\"https://colab.research.google.com/github/kingsfall/covid-fastAI/blob/master/COVID.ipynb\" target=\"_parent\"><img src=\"https://colab.research.google.com/assets/colab-badge.svg\" alt=\"Open In Colab\"/></a>"
      ]
    },
    {
      "cell_type": "code",
      "metadata": {
        "id": "HKfs8hgvyHbh",
        "colab_type": "code",
        "colab": {}
      },
      "source": [
        "%reload_ext autoreload\n",
        "%autoreload 2\n",
        "%matplotlib inline"
      ],
      "execution_count": 0,
      "outputs": []
    },
    {
      "cell_type": "code",
      "metadata": {
        "id": "xFo9gwazyKO4",
        "colab_type": "code",
        "colab": {}
      },
      "source": [
        "import math\n",
        "from fastai.vision import *\n",
        "from google.colab import files"
      ],
      "execution_count": 0,
      "outputs": []
    },
    {
      "cell_type": "code",
      "metadata": {
        "id": "oc13avYPG2Fq",
        "colab_type": "code",
        "colab": {}
      },
      "source": [
        "import warnings\n",
        "warnings.filterwarnings('ignore')"
      ],
      "execution_count": 0,
      "outputs": []
    },
    {
      "cell_type": "code",
      "metadata": {
        "id": "4wOxXLutwXSD",
        "colab_type": "code",
        "colab": {
          "base_uri": "https://localhost:8080/",
          "height": 122
        },
        "outputId": "8b490fd5-93a6-4c42-cfad-b80808344507"
      },
      "source": [
        "from google.colab import drive\n",
        "drive.mount('/content/drive')"
      ],
      "execution_count": 4,
      "outputs": [
        {
          "output_type": "stream",
          "text": [
            "Go to this URL in a browser: https://accounts.google.com/o/oauth2/auth?client_id=947318989803-6bn6qk8qdgf4n4g3pfee6491hc0brc4i.apps.googleusercontent.com&redirect_uri=urn%3aietf%3awg%3aoauth%3a2.0%3aoob&response_type=code&scope=email%20https%3a%2f%2fwww.googleapis.com%2fauth%2fdocs.test%20https%3a%2f%2fwww.googleapis.com%2fauth%2fdrive%20https%3a%2f%2fwww.googleapis.com%2fauth%2fdrive.photos.readonly%20https%3a%2f%2fwww.googleapis.com%2fauth%2fpeopleapi.readonly\n",
            "\n",
            "Enter your authorization code:\n",
            "··········\n",
            "Mounted at /content/drive\n"
          ],
          "name": "stdout"
        }
      ]
    },
    {
      "cell_type": "code",
      "metadata": {
        "id": "y97vBRe-yLkP",
        "colab_type": "code",
        "colab": {}
      },
      "source": [
        "! pip install -q kaggle"
      ],
      "execution_count": 0,
      "outputs": []
    },
    {
      "cell_type": "code",
      "metadata": {
        "id": "Zub-jWt9y7FH",
        "colab_type": "code",
        "colab": {}
      },
      "source": [
        "! mkdir -p /root/.kaggle/\n",
        "! cp kaggle.json /root/.kaggle/\n",
        "! chmod 600 /root/.kaggle/kaggle.json\n",
        "path = Config.data_path()/'CoronaHack'\n",
        "path.mkdir(parents=True, exist_ok=True)"
      ],
      "execution_count": 0,
      "outputs": []
    },
    {
      "cell_type": "code",
      "metadata": {
        "id": "Tk4tGnHz1D6-",
        "colab_type": "code",
        "outputId": "0abe846c-bee4-4efa-b45d-9c17112a34d1",
        "colab": {
          "base_uri": "https://localhost:8080/",
          "height": 68
        }
      },
      "source": [
        "! kaggle datasets download -d praveengovi/coronahack-chest-xraydataset\n",
        "! unzip -q -n /content/coronahack-chest-xraydataset.zip -d {path}"
      ],
      "execution_count": 21,
      "outputs": [
        {
          "output_type": "stream",
          "text": [
            "Downloading coronahack-chest-xraydataset.zip to /root/.fastai/data/CoronaHack\n",
            " 99% 1.17G/1.19G [00:20<00:00, 56.6MB/s]\n",
            "100% 1.19G/1.19G [00:20<00:00, 63.0MB/s]\n"
          ],
          "name": "stdout"
        }
      ]
    },
    {
      "cell_type": "code",
      "metadata": {
        "id": "0jfc8Tc9ol2H",
        "colab_type": "code",
        "outputId": "7beb0b00-f218-4750-d09c-af28777c56bf",
        "colab": {
          "base_uri": "https://localhost:8080/",
          "height": 85
        }
      },
      "source": [
        "! mv /root/.fastai/data/CoronaHack/Coronahack-Chest-XRay-Dataset/Coronahack-Chest-XRay-Dataset/train /root/.fastai/data/CoronaHack/train\n",
        "! mv /root/.fastai/data/CoronaHack/Coronahack-Chest-XRay-Dataset/Coronahack-Chest-XRay-Dataset/test /root/.fastai/data/CoronaHack/test\n",
        "\n",
        "%ls\n"
      ],
      "execution_count": 22,
      "outputs": [
        {
          "output_type": "stream",
          "text": [
            "Chest_xray_Corona_dataset_Summary.csv  \u001b[0m\u001b[01;34mtest\u001b[0m/\n",
            "Chest_xray_Corona_Metadata.csv         test.csv\n",
            "\u001b[01;34mCoronahack-Chest-XRay-Dataset\u001b[0m/         \u001b[01;34mtrain\u001b[0m/\n",
            "coronahack-chest-xraydataset.zip       train.csv\n"
          ],
          "name": "stdout"
        }
      ]
    },
    {
      "cell_type": "code",
      "metadata": {
        "id": "nBMtj0zq2bDc",
        "colab_type": "code",
        "outputId": "b9d5fed6-083e-49cb-e29c-41b938b72205",
        "colab": {
          "base_uri": "https://localhost:8080/",
          "height": 34
        }
      },
      "source": [
        "import pandas as pd\n",
        "from numpy import nan\n",
        "\n",
        "%cd /root/.fastai/data/CoronaHack\n",
        "! rm -R Coronahack-Chest-XRay-Dataset\n",
        "df = pd.read_csv('Chest_xray_Corona_Metadata.csv')"
      ],
      "execution_count": 23,
      "outputs": [
        {
          "output_type": "stream",
          "text": [
            "/root/.fastai/data/CoronaHack\n"
          ],
          "name": "stdout"
        }
      ]
    },
    {
      "cell_type": "code",
      "metadata": {
        "id": "Fe2tIwrug9Zo",
        "colab_type": "code",
        "outputId": "b8e63a5b-ef05-40ab-bdbb-ffa9b2ffed2b",
        "colab": {
          "base_uri": "https://localhost:8080/",
          "height": 187
        }
      },
      "source": [
        "df.loc[(df.Label == 'Pnemonia') & (df.Label_2_Virus_category == 'ARDS')] = df.loc[(df.Label == 'Pnemonia') & (df.Label_2_Virus_category == 'ARDS')].replace(\n",
        "    \"Pnemonia\", \"ARDS (Stress-Smoking)\")\n",
        "df.loc[(df.Label == 'Pnemonia') & (df.Label_2_Virus_category == 'COVID-19')] = df.loc[(df.Label == 'Pnemonia') & (df.Label_2_Virus_category == 'COVID-19')].replace(\n",
        "    \"Pnemonia\", \"COVID-19 (Virus)\")\n",
        "df.loc[(df.Label == 'Pnemonia') & (df.Label_2_Virus_category == 'SARS')] = df.loc[(df.Label == 'Pnemonia') & (df.Label_2_Virus_category == 'SARS')].replace(\n",
        "    \"Pnemonia\", \"SARS (Virus)\")\n",
        "df.loc[(df.Label == 'Pnemonia') & (df.Label_1_Virus_category == 'Virus')] = df.loc[(df.Label == 'Pnemonia') & (df.Label_1_Virus_category == 'Virus')].replace(\n",
        "    \"Pnemonia\", \"Pnemonia (Virus)\")\n",
        "df.loc[(df.Label == 'Pnemonia') & (df.Label_1_Virus_category == 'bacteria')] = df.loc[(df.Label == 'Pnemonia') & (df.Label_1_Virus_category == 'bacteria')].replace(\n",
        "    \"Pnemonia\", \"Pnemonia (bacteria)\")\n",
        "\n",
        "print(df.groupby(\"Label\").count())"
      ],
      "execution_count": 24,
      "outputs": [
        {
          "output_type": "stream",
          "text": [
            "                       Unnamed: 0  ...  Label_1_Virus_category\n",
            "Label                              ...                        \n",
            "ARDS (Stress-Smoking)           2  ...                       2\n",
            "COVID-19 (Virus)               58  ...                      58\n",
            "Normal                       1576  ...                       0\n",
            "Pnemonia (Virus)             1493  ...                    1493\n",
            "Pnemonia (bacteria)          2777  ...                    2777\n",
            "SARS (Virus)                    4  ...                       4\n",
            "\n",
            "[6 rows x 5 columns]\n"
          ],
          "name": "stdout"
        }
      ]
    },
    {
      "cell_type": "code",
      "metadata": {
        "id": "85NgLOXYjuXd",
        "colab_type": "code",
        "colab": {}
      },
      "source": [
        "df = df.loc[:,[\"X_ray_image_name\",\"Label\"]]"
      ],
      "execution_count": 0,
      "outputs": []
    },
    {
      "cell_type": "code",
      "metadata": {
        "id": "-asXCc_eKff6",
        "colab_type": "code",
        "outputId": "eb738171-1bf6-4840-c158-a26b8e7b40b9",
        "colab": {
          "base_uri": "https://localhost:8080/",
          "height": 221
        }
      },
      "source": [
        "from random import seed\n",
        "from random import random\n",
        "seed(42)\n",
        "\n",
        "# df_gb = groupby\n",
        "df_gb = df.groupby(\"Label\").count()\n",
        "df_gb = df_gb.reset_index()\n",
        "df_gb[\"Test Qty\"] = 0\n",
        "\n",
        "for row in range(len(df_gb)):\n",
        "    labelQty = int(df_gb[\"X_ray_image_name\"][row])\n",
        "    testQty = int(round(labelQty * 0.2))\n",
        "    df_gb[\"Test Qty\"][row] = testQty\n",
        "\n",
        "df_test = pd.DataFrame(columns=[\"X_ray_image_name\", \"Label\"])\n",
        "\n",
        "for row in range(len(df_gb)):\n",
        "    dfTemp = pd.DataFrame()\n",
        "    looplength = df_gb[\"Test Qty\"][row]\n",
        "    label = df_gb[\"Label\"][row]\n",
        "\n",
        "    for index in range(looplength):\n",
        "        dfTemp = df\n",
        "        dfTemp = dfTemp.loc[df.Label == label]\n",
        "        randomValue = random()\n",
        "        rowIndex = list(dfTemp.index)[int(len(dfTemp)*randomValue)-1]\n",
        "        testRow = pd.DataFrame(\n",
        "            {\"X_ray_image_name\": df[\"X_ray_image_name\"][rowIndex], \"Label\": df[\"Label\"][rowIndex]}, index=[0])\n",
        "        df_test = df_test.append(testRow)\n",
        "        df = df.drop(rowIndex)\n",
        "\n",
        "df_test = df_test.reset_index().drop(columns=\"index\")\n",
        "\n",
        "print(df.shape, df_test.shape)\n",
        "print(df.head(), df_test.head())\n"
      ],
      "execution_count": 26,
      "outputs": [
        {
          "output_type": "stream",
          "text": [
            "(4728, 2) (1182, 2)\n",
            "    X_ray_image_name   Label\n",
            "0  IM-0128-0001.jpeg  Normal\n",
            "1  IM-0127-0001.jpeg  Normal\n",
            "2  IM-0125-0001.jpeg  Normal\n",
            "4  IM-0119-0001.jpeg  Normal\n",
            "5  IM-0117-0001.jpeg  Normal                             X_ray_image_name             Label\n",
            "0    41591_2020_819_Fig1_HTML.webp-day10.png  COVID-19 (Virus)\n",
            "1                    kjr-21-e25-g001-l-a.jpg  COVID-19 (Virus)\n",
            "2  E1724330-1866-4581-8CD8-CEC9B8AFEDDE.jpeg  COVID-19 (Virus)\n",
            "3  F4341CE7-73C9-45C6-99C8-8567A5484B63.jpeg  COVID-19 (Virus)\n",
            "4   23E99E2E-447C-46E5-8EB2-D35D12473C39.png  COVID-19 (Virus)\n"
          ],
          "name": "stdout"
        }
      ]
    },
    {
      "cell_type": "code",
      "metadata": {
        "id": "NWmMvTcaxDgc",
        "colab_type": "code",
        "colab": {}
      },
      "source": [
        "df.to_csv('train.csv',index=False)\n",
        "df_test.to_csv('test.csv',index=False)"
      ],
      "execution_count": 0,
      "outputs": []
    },
    {
      "cell_type": "code",
      "metadata": {
        "id": "N64QV-nPgBHp",
        "colab_type": "code",
        "colab": {
          "base_uri": "https://localhost:8080/",
          "height": 68
        },
        "outputId": "744308f4-ac2e-488d-8885-be7eb61d360f"
      },
      "source": [
        "%cd /root/.fastai/data/CoronaHack/test\n",
        "! mv *jpeg /root/.fastai/data/CoronaHack/train\n",
        "%cd /root/.fastai/data/CoronaHack\n",
        "! rm -R test"
      ],
      "execution_count": 32,
      "outputs": [
        {
          "output_type": "stream",
          "text": [
            "/root/.fastai/data/CoronaHack/test\n",
            "mv: cannot stat '*jpeg': No such file or directory\n",
            "/root/.fastai/data/CoronaHack\n"
          ],
          "name": "stdout"
        }
      ]
    },
    {
      "cell_type": "code",
      "metadata": {
        "id": "a-yNSsgNz2Z4",
        "colab_type": "code",
        "colab": {}
      },
      "source": [
        "%ls /root/.fastai/data/CoronaHack/train"
      ],
      "execution_count": 0,
      "outputs": []
    },
    {
      "cell_type": "code",
      "metadata": {
        "id": "nboUeE7Og9Fl",
        "colab_type": "code",
        "colab": {}
      },
      "source": [
        "%ls /root/.fastai/data/CoronaHack/test"
      ],
      "execution_count": 0,
      "outputs": []
    },
    {
      "cell_type": "code",
      "metadata": {
        "id": "8bCfnXXWz7fU",
        "colab_type": "code",
        "colab": {}
      },
      "source": [
        "np.random.seed(42)\n",
        "path = Path('/root/.fastai/data/CoronaHack')\n",
        "data = (ImageList.from_csv(path,'train.csv',folder='train').split_by_rand_pct().label_from_df().transform(size=128).databunch().normalize(imagenet_stats))"
      ],
      "execution_count": 0,
      "outputs": []
    },
    {
      "cell_type": "code",
      "metadata": {
        "id": "aAAc_A2pt_Xq",
        "colab_type": "code",
        "outputId": "53ef4af4-e9f8-47b3-b915-e0f199fa25ca",
        "colab": {
          "base_uri": "https://localhost:8080/",
          "height": 369
        }
      },
      "source": [
        "import warnings\n",
        "warnings.filterwarnings('ignore')\n",
        "data.show_batch(rows=2, figsize=(5,5))"
      ],
      "execution_count": 35,
      "outputs": [
        {
          "output_type": "display_data",
          "data": {
            "image/png": "[encoded data removed]",
            "text/plain": [
              "<Figure size 360x360 with 4 Axes>"
            ]
          },
          "metadata": {
            "tags": [],
            "needs_background": "light"
          }
        }
      ]
    },
    {
      "cell_type": "code",
      "metadata": {
        "id": "D-2nHQAmuPgc",
        "colab_type": "code",
        "outputId": "8c09df32-cf67-436b-d71d-367dbc76570d",
        "colab": {
          "base_uri": "https://localhost:8080/",
          "height": 83,
          "referenced_widgets": [
            "cd1cf3b81da340a5a7142609f3e51400",
            "1143abd884384240bc7b50fd5462f89b",
            "8e6357c8f59e46f7a84811196412baed",
            "fde2f175a3c4469a8711c38f4f47d886",
            "8026aefa42e94cc8911f0128255fb1d2",
            "9caed3700a074ad18f1004ae896f2c55",
            "677badc74634475485619d56400090b0",
            "45ff7d23e5d946b78b062d9ea423048c"
          ]
        }
      },
      "source": [
        "learn = cnn_learner(data, models.resnet34, metrics=error_rate)"
      ],
      "execution_count": 36,
      "outputs": [
        {
          "output_type": "stream",
          "text": [
            "Downloading: \"https://download.pytorch.org/models/resnet34-333f7ec4.pth\" to /root/.cache/torch/checkpoints/resnet34-333f7ec4.pth\n"
          ],
          "name": "stderr"
        },
        {
          "output_type": "display_data",
          "data": {
            "application/vnd.jupyter.widget-view+json": {
              "model_id": "cd1cf3b81da340a5a7142609f3e51400",
              "version_minor": 0,
              "version_major": 2
            },
            "text/plain": [
              "HBox(children=(FloatProgress(value=0.0, max=87306240.0), HTML(value='')))"
            ]
          },
          "metadata": {
            "tags": []
          }
        },
        {
          "output_type": "stream",
          "text": [
            "\n"
          ],
          "name": "stdout"
        }
      ]
    },
    {
      "cell_type": "code",
      "metadata": {
        "id": "MQ_UZ-xzuWuJ",
        "colab_type": "code",
        "outputId": "eb5b0bc8-ec3f-4c7f-a44a-3d11b25b076d",
        "colab": {
          "base_uri": "https://localhost:8080/",
          "height": 173
        }
      },
      "source": [
        "learn.fit_one_cycle(4)"
      ],
      "execution_count": 37,
      "outputs": [
        {
          "output_type": "display_data",
          "data": {
            "text/html": [
              "<table border=\"1\" class=\"dataframe\">\n",
              "  <thead>\n",
              "    <tr style=\"text-align: left;\">\n",
              "      <th>epoch</th>\n",
              "      <th>train_loss</th>\n",
              "      <th>valid_loss</th>\n",
              "      <th>error_rate</th>\n",
              "      <th>time</th>\n",
              "    </tr>\n",
              "  </thead>\n",
              "  <tbody>\n",
              "    <tr>\n",
              "      <td>0</td>\n",
              "      <td>1.584087</td>\n",
              "      <td>0.852484</td>\n",
              "      <td>0.274074</td>\n",
              "      <td>02:16</td>\n",
              "    </tr>\n",
              "    <tr>\n",
              "      <td>1</td>\n",
              "      <td>1.030373</td>\n",
              "      <td>0.586942</td>\n",
              "      <td>0.225397</td>\n",
              "      <td>02:16</td>\n",
              "    </tr>\n",
              "    <tr>\n",
              "      <td>2</td>\n",
              "      <td>0.711964</td>\n",
              "      <td>0.545171</td>\n",
              "      <td>0.213757</td>\n",
              "      <td>02:15</td>\n",
              "    </tr>\n",
              "    <tr>\n",
              "      <td>3</td>\n",
              "      <td>0.550580</td>\n",
              "      <td>0.535667</td>\n",
              "      <td>0.210582</td>\n",
              "      <td>02:15</td>\n",
              "    </tr>\n",
              "  </tbody>\n",
              "</table>"
            ],
            "text/plain": [
              "<IPython.core.display.HTML object>"
            ]
          },
          "metadata": {
            "tags": []
          }
        }
      ]
    },
    {
      "cell_type": "code",
      "metadata": {
        "id": "oXiRXbK75JC8",
        "colab_type": "code",
        "colab": {}
      },
      "source": [
        "learn.save('stage-1')"
      ],
      "execution_count": 0,
      "outputs": []
    },
    {
      "cell_type": "code",
      "metadata": {
        "id": "_XEIFbdUEaLV",
        "colab_type": "code",
        "outputId": "a6df43b5-508f-482e-a07d-83c3ad68846d",
        "colab": {
          "base_uri": "https://localhost:8080/",
          "height": 17
        }
      },
      "source": [
        "interp = ClassificationInterpretation.from_learner(learn)"
      ],
      "execution_count": 39,
      "outputs": [
        {
          "output_type": "display_data",
          "data": {
            "text/html": [
              ""
            ],
            "text/plain": [
              "<IPython.core.display.HTML object>"
            ]
          },
          "metadata": {
            "tags": []
          }
        }
      ]
    },
    {
      "cell_type": "code",
      "metadata": {
        "id": "FQzGe_1rEawE",
        "colab_type": "code",
        "outputId": "a4842786-b514-4385-c753-ee673d981eab",
        "colab": {
          "base_uri": "https://localhost:8080/",
          "height": 311
        }
      },
      "source": [
        "interp.plot_confusion_matrix()"
      ],
      "execution_count": 40,
      "outputs": [
        {
          "output_type": "display_data",
          "data": {
            "image/png": "[encoded data removed]",
            "text/plain": [
              "<Figure size 432x288 with 1 Axes>"
            ]
          },
          "metadata": {
            "tags": [],
            "needs_background": "light"
          }
        }
      ]
    },
    {
      "cell_type": "code",
      "metadata": {
        "id": "lIfE2ypHEzrB",
        "colab_type": "code",
        "outputId": "1b799c95-5def-4e6a-c630-bd017e7987bb",
        "colab": {
          "base_uri": "https://localhost:8080/",
          "height": 405
        }
      },
      "source": [
        "learn.load('stage-1')\n",
        "learn.lr_find()\n",
        "learn.recorder.plot()"
      ],
      "execution_count": 41,
      "outputs": [
        {
          "output_type": "display_data",
          "data": {
            "text/html": [
              "\n",
              "    <div>\n",
              "        <style>\n",
              "            /* Turns off some styling */\n",
              "            progress {\n",
              "                /* gets rid of default border in Firefox and Opera. */\n",
              "                border: none;\n",
              "                /* Needs to be in here for Safari polyfill so background images work as expected. */\n",
              "                background-size: auto;\n",
              "            }\n",
              "            .progress-bar-interrupted, .progress-bar-interrupted::-webkit-progress-bar {\n",
              "                background: #F44336;\n",
              "            }\n",
              "        </style>\n",
              "      <progress value='1' class='' max='2' style='width:300px; height:20px; vertical-align: middle;'></progress>\n",
              "      50.00% [1/2 01:45<01:45]\n",
              "    </div>\n",
              "    \n",
              "<table border=\"1\" class=\"dataframe\">\n",
              "  <thead>\n",
              "    <tr style=\"text-align: left;\">\n",
              "      <th>epoch</th>\n",
              "      <th>train_loss</th>\n",
              "      <th>valid_loss</th>\n",
              "      <th>error_rate</th>\n",
              "      <th>time</th>\n",
              "    </tr>\n",
              "  </thead>\n",
              "  <tbody>\n",
              "    <tr>\n",
              "      <td>0</td>\n",
              "      <td>0.461056</td>\n",
              "      <td>#na#</td>\n",
              "      <td>01:45</td>\n",
              "    </tr>\n",
              "  </tbody>\n",
              "</table><p>\n",
              "\n",
              "    <div>\n",
              "        <style>\n",
              "            /* Turns off some styling */\n",
              "            progress {\n",
              "                /* gets rid of default border in Firefox and Opera. */\n",
              "                border: none;\n",
              "                /* Needs to be in here for Safari polyfill so background images work as expected. */\n",
              "                background-size: auto;\n",
              "            }\n",
              "            .progress-bar-interrupted, .progress-bar-interrupted::-webkit-progress-bar {\n",
              "                background: #F44336;\n",
              "            }\n",
              "        </style>\n",
              "      <progress value='27' class='' max='59' style='width:300px; height:20px; vertical-align: middle;'></progress>\n",
              "      45.76% [27/59 00:50<01:00 1.6608]\n",
              "    </div>\n",
              "    "
            ],
            "text/plain": [
              "<IPython.core.display.HTML object>"
            ]
          },
          "metadata": {
            "tags": []
          }
        },
        {
          "output_type": "stream",
          "text": [
            "LR Finder is complete, type {learner_name}.recorder.plot() to see the graph.\n"
          ],
          "name": "stdout"
        },
        {
          "output_type": "display_data",
          "data": {
            "image/png": "[encoded data removed]",
            "text/plain": [
              "<Figure size 432x288 with 1 Axes>"
            ]
          },
          "metadata": {
            "tags": [],
            "needs_background": "light"
          }
        }
      ]
    },
    {
      "cell_type": "code",
      "metadata": {
        "id": "5EAC5pR6F_gX",
        "colab_type": "code",
        "outputId": "baab40c3-4b5b-4326-8457-9daee6143ca6",
        "colab": {
          "base_uri": "https://localhost:8080/",
          "height": 111
        }
      },
      "source": [
        "learn.unfreeze()\n",
        "learn.fit_one_cycle(2, max_lr=slice(1e-6,1e-2))"
      ],
      "execution_count": 42,
      "outputs": [
        {
          "output_type": "display_data",
          "data": {
            "text/html": [
              "<table border=\"1\" class=\"dataframe\">\n",
              "  <thead>\n",
              "    <tr style=\"text-align: left;\">\n",
              "      <th>epoch</th>\n",
              "      <th>train_loss</th>\n",
              "      <th>valid_loss</th>\n",
              "      <th>error_rate</th>\n",
              "      <th>time</th>\n",
              "    </tr>\n",
              "  </thead>\n",
              "  <tbody>\n",
              "    <tr>\n",
              "      <td>0</td>\n",
              "      <td>0.679638</td>\n",
              "      <td>0.546532</td>\n",
              "      <td>0.207407</td>\n",
              "      <td>02:14</td>\n",
              "    </tr>\n",
              "    <tr>\n",
              "      <td>1</td>\n",
              "      <td>0.441628</td>\n",
              "      <td>0.478322</td>\n",
              "      <td>0.180952</td>\n",
              "      <td>02:14</td>\n",
              "    </tr>\n",
              "  </tbody>\n",
              "</table>"
            ],
            "text/plain": [
              "<IPython.core.display.HTML object>"
            ]
          },
          "metadata": {
            "tags": []
          }
        }
      ]
    },
    {
      "cell_type": "code",
      "metadata": {
        "id": "QdRRWHrtyEDC",
        "colab_type": "code",
        "colab": {}
      },
      "source": [
        "learn.export()"
      ],
      "execution_count": 0,
      "outputs": []
    },
    {
      "cell_type": "code",
      "metadata": {
        "id": "hn5FEa9dyHJa",
        "colab_type": "code",
        "outputId": "6defd48e-5a71-4952-cd54-8671695e5ddd",
        "colab": {
          "base_uri": "https://localhost:8080/",
          "height": 170
        }
      },
      "source": [
        "%ls -l --block-size=M"
      ],
      "execution_count": 44,
      "outputs": [
        {
          "output_type": "stream",
          "text": [
            "total 1301M\n",
            "-rw-r--r-- 1 root root    1M Mar 20 01:27 Chest_xray_Corona_dataset_Summary.csv\n",
            "-rw-r--r-- 1 root root    1M Mar 20 01:27 Chest_xray_Corona_Metadata.csv\n",
            "-rw-r--r-- 1 root root 1217M Jun 12 17:14 coronahack-chest-xraydataset.zip\n",
            "-rw-r--r-- 1 root root   84M Jun 12 17:36 export.pkl\n",
            "drwxr-xr-x 2 root root    1M Jun 12 17:28 \u001b[0m\u001b[01;34mmodels\u001b[0m/\n",
            "-rw-r--r-- 1 root root    1M Jun 12 17:14 test.csv\n",
            "drwxr-xr-x 2 root root    1M Jun 12 17:15 \u001b[01;34mtrain\u001b[0m/\n",
            "-rw-r--r-- 1 root root    1M Jun 12 17:14 train.csv\n"
          ],
          "name": "stdout"
        }
      ]
    },
    {
      "cell_type": "code",
      "metadata": {
        "id": "8onZ-q9uyVt4",
        "colab_type": "code",
        "colab": {}
      },
      "source": [
        "# ! mkdir -p /content/gdrive/My\\ Drive/Colab\\ Notebooks/COVID-Model/\n",
        "! cp export.pkl /content/drive/My\\ Drive/Colab\\ Notebooks/COVID-Model/'export.pkl'"
      ],
      "execution_count": 0,
      "outputs": []
    },
    {
      "cell_type": "code",
      "metadata": {
        "id": "fWzBFcvg8AXq",
        "colab_type": "code",
        "colab": {}
      },
      "source": [
        "# np.random.seed(42)\n",
        "# testData = (ImageList.from_csv(path_testData,'test.csv',folder='test'))\n",
        "# learn = load_learner(path_testModel,'export.pkl',test= testData)"
      ],
      "execution_count": 0,
      "outputs": []
    },
    {
      "cell_type": "code",
      "metadata": {
        "id": "nST5Cvit3usK",
        "colab_type": "code",
        "colab": {}
      },
      "source": [
        "path_testModel = Path('/content/drive/My Drive/Colab Notebooks/COVID-Model/')\n",
        "learn = load_learner(path_testModel,'export.pkl')"
      ],
      "execution_count": 0,
      "outputs": []
    },
    {
      "cell_type": "code",
      "metadata": {
        "id": "qw0KKm3E5iho",
        "colab_type": "code",
        "colab": {}
      },
      "source": [
        "df_test = pd.read_csv('/root/.fastai/data/CoronaHack/test.csv')\n",
        "df_test[\"Prediction\"] = \"\"\n",
        "df_test[\"Result\"] = \"\"\n",
        "\n",
        "for row in df_test.iterrows():\n",
        "  index = row[1][\"X_ray_image_name\"]\n",
        "  img = open_image(f\"/root/.fastai/data/CoronaHack/train/{index}\")\n",
        "  cat, tensor, probs = learn.predict(img)\n",
        "  row[1][\"Prediction\"] = str(cat)\n",
        "  if row[1][\"Prediction\"] == row[1][\"Label\"]:\n",
        "    row[1][\"Result\"] = 1\n",
        "  else:\n",
        "    row[1][\"Result\"] = 0\n"
      ],
      "execution_count": 0,
      "outputs": []
    },
    {
      "cell_type": "code",
      "metadata": {
        "id": "OfEvGpu3ACUa",
        "colab_type": "code",
        "outputId": "1063cb4c-10fa-431f-d376-647b0c42ac86",
        "colab": {
          "base_uri": "https://localhost:8080/",
          "height": 34
        }
      },
      "source": [
        "arrayLabel = list(df_test.groupby(\"Label\").count().reset_index()[\"Label\"])\n",
        "arrayPrediction = list(df_test.groupby(\"Label\").sum().reset_index()[\"Result\"])\n",
        "arrayTotal = list(df_test.groupby(\"Label\").count().reset_index()[\"Result\"])\n",
        "print(arrayLabel,arrayPrediction,arrayTotal)"
      ],
      "execution_count": 61,
      "outputs": [
        {
          "output_type": "stream",
          "text": [
            "['COVID-19 (Virus)', 'Normal', 'Pnemonia (Virus)', 'Pnemonia (bacteria)', 'SARS (Virus)'] [8, 291, 188, 463, 0] [12, 315, 299, 555, 1]\n"
          ],
          "name": "stdout"
        }
      ]
    },
    {
      "cell_type": "code",
      "metadata": {
        "id": "cmGG-vVxpvQD",
        "colab_type": "code",
        "colab": {}
      },
      "source": [
        "testResultDict = {}\n",
        "for index in range(len(arrayTotal)):\n",
        "      testResultDict.update({arrayLabel[index]: arrayPrediction[index]/arrayTotal[index]})\n"
      ],
      "execution_count": 0,
      "outputs": []
    },
    {
      "cell_type": "code",
      "metadata": {
        "id": "EvOiIdfVqa1M",
        "colab_type": "code",
        "colab": {
          "base_uri": "https://localhost:8080/",
          "height": 102
        },
        "outputId": "9fe4ddbd-5bbb-4095-8810-526144817def"
      },
      "source": [
        "testResultDict"
      ],
      "execution_count": 63,
      "outputs": [
        {
          "output_type": "execute_result",
          "data": {
            "text/plain": [
              "{'COVID-19 (Virus)': 0.6666666666666666,\n",
              " 'Normal': 0.9238095238095239,\n",
              " 'Pnemonia (Virus)': 0.6287625418060201,\n",
              " 'Pnemonia (bacteria)': 0.8342342342342343,\n",
              " 'SARS (Virus)': 0.0}"
            ]
          },
          "metadata": {
            "tags": []
          },
          "execution_count": 63
        }
      ]
    },
    {
      "cell_type": "code",
      "metadata": {
        "id": "unHjxPvPqcs5",
        "colab_type": "code",
        "colab": {}
      },
      "source": [
        ""
      ],
      "execution_count": 0,
      "outputs": []
    }
  ]
}